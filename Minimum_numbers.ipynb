{
 "cells": [
  {
   "cell_type": "markdown",
   "id": "2c776a24",
   "metadata": {},
   "source": [
    "Define a function named my_min to find the min of the inputted numbers.<br>\n",
    "print(my_min(5,6,7))<br>\n",
    "5<br>\n",
    "print(my_min(3,8,-9,0,12,1.2))<br>\n",
    "-9<br>\n",
    "print(my_min(-100))<br>\n",
    "-100"
   ]
  },
  {
   "cell_type": "code",
   "execution_count": 1,
   "id": "0640ccd4",
   "metadata": {},
   "outputs": [],
   "source": [
    "def my_min(*args):\n",
    "    x= min(args)\n",
    "    return(x)"
   ]
  },
  {
   "cell_type": "code",
   "execution_count": 2,
   "id": "1dfc9cd8",
   "metadata": {},
   "outputs": [
    {
     "name": "stdout",
     "output_type": "stream",
     "text": [
      "5\n"
     ]
    }
   ],
   "source": [
    "print(my_min(5,6,7))"
   ]
  },
  {
   "cell_type": "code",
   "execution_count": 3,
   "id": "540935e3",
   "metadata": {},
   "outputs": [
    {
     "name": "stdout",
     "output_type": "stream",
     "text": [
      "-9\n"
     ]
    }
   ],
   "source": [
    "print(my_min(3,8,-9,0,12,1.2))"
   ]
  },
  {
   "cell_type": "code",
   "execution_count": 4,
   "id": "904bd398",
   "metadata": {},
   "outputs": [
    {
     "name": "stdout",
     "output_type": "stream",
     "text": [
      "-100\n"
     ]
    }
   ],
   "source": [
    "print(my_min(-100))"
   ]
  },
  {
   "cell_type": "code",
   "execution_count": null,
   "id": "bde1218d",
   "metadata": {},
   "outputs": [],
   "source": []
  }
 ],
 "metadata": {
  "kernelspec": {
   "display_name": "Python 3",
   "language": "python",
   "name": "python3"
  },
  "language_info": {
   "codemirror_mode": {
    "name": "ipython",
    "version": 3
   },
   "file_extension": ".py",
   "mimetype": "text/x-python",
   "name": "python",
   "nbconvert_exporter": "python",
   "pygments_lexer": "ipython3",
   "version": "3.8.8"
  }
 },
 "nbformat": 4,
 "nbformat_minor": 5
}
