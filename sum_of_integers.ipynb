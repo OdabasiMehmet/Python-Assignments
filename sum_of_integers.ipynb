{
 "cells": [
  {
   "cell_type": "markdown",
   "id": "022eaba7",
   "metadata": {},
   "source": [
    "Define a function named my_sum to return the sum of all int type inputted numbers.<br>\n",
    "print(my_sum(9, 1, 3, 0, -1))<br>\n",
    "12<br>\n",
    "print(my_sum(5, 7, 4))<br>\n",
    "16<br>\n",
    "print(my_sum(10, -20, 30, 40))<br>\n",
    "60"
   ]
  },
  {
   "cell_type": "code",
   "execution_count": 2,
   "id": "3ff89ccd",
   "metadata": {},
   "outputs": [],
   "source": [
    "def my_sum(*args):\n",
    "    result=0\n",
    "    for arg in args:\n",
    "        result+=arg\n",
    "    return(result)"
   ]
  },
  {
   "cell_type": "code",
   "execution_count": 3,
   "id": "a1d567eb",
   "metadata": {},
   "outputs": [
    {
     "name": "stdout",
     "output_type": "stream",
     "text": [
      "12\n"
     ]
    }
   ],
   "source": [
    "print(my_sum(9, 1, 3, 0, -1))"
   ]
  },
  {
   "cell_type": "code",
   "execution_count": 4,
   "id": "b48c4caf",
   "metadata": {},
   "outputs": [
    {
     "name": "stdout",
     "output_type": "stream",
     "text": [
      "16\n"
     ]
    }
   ],
   "source": [
    "print(my_sum(5, 7, 4))"
   ]
  },
  {
   "cell_type": "code",
   "execution_count": 5,
   "id": "1a8f9dc9",
   "metadata": {},
   "outputs": [
    {
     "name": "stdout",
     "output_type": "stream",
     "text": [
      "60\n"
     ]
    }
   ],
   "source": [
    "print(my_sum(10, -20, 30, 40))"
   ]
  },
  {
   "cell_type": "code",
   "execution_count": null,
   "id": "b329560c",
   "metadata": {},
   "outputs": [],
   "source": []
  }
 ],
 "metadata": {
  "kernelspec": {
   "display_name": "Python 3",
   "language": "python",
   "name": "python3"
  },
  "language_info": {
   "codemirror_mode": {
    "name": "ipython",
    "version": 3
   },
   "file_extension": ".py",
   "mimetype": "text/x-python",
   "name": "python",
   "nbconvert_exporter": "python",
   "pygments_lexer": "ipython3",
   "version": "3.8.8"
  }
 },
 "nbformat": 4,
 "nbformat_minor": 5
}
