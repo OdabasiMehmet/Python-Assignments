{
 "cells": [
  {
   "cell_type": "code",
   "execution_count": null,
   "id": "4cbd2ca2",
   "metadata": {},
   "outputs": [],
   "source": [
    "#Given a list, return the most frequent (repeating) element."
   ]
  },
  {
   "cell_type": "code",
   "execution_count": 1,
   "id": "6be6b4ca",
   "metadata": {},
   "outputs": [],
   "source": [
    "def most_freq(given_list):\n",
    "    counter = 0\n",
    "    num = given_list[0]\n",
    "     \n",
    "    for i in given_list:\n",
    "        curr_frequency = given_list.count(i)\n",
    "        if(curr_frequency> counter):\n",
    "            counter = curr_frequency\n",
    "            num = i\n",
    " \n",
    "    return num\n",
    " "
   ]
  },
  {
   "cell_type": "code",
   "execution_count": 2,
   "id": "9912062e",
   "metadata": {},
   "outputs": [
    {
     "name": "stdout",
     "output_type": "stream",
     "text": [
      "3\n"
     ]
    }
   ],
   "source": [
    "print(most_freq([3,1,2,1,3])) "
   ]
  },
  {
   "cell_type": "code",
   "execution_count": null,
   "id": "d9d02cc6",
   "metadata": {},
   "outputs": [],
   "source": []
  }
 ],
 "metadata": {
  "kernelspec": {
   "display_name": "Python 3",
   "language": "python",
   "name": "python3"
  },
  "language_info": {
   "codemirror_mode": {
    "name": "ipython",
    "version": 3
   },
   "file_extension": ".py",
   "mimetype": "text/x-python",
   "name": "python",
   "nbconvert_exporter": "python",
   "pygments_lexer": "ipython3",
   "version": "3.8.8"
  }
 },
 "nbformat": 4,
 "nbformat_minor": 5
}
